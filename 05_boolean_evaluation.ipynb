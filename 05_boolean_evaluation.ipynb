{
 "cells": [
  {
   "cell_type": "markdown",
   "metadata": {},
   "source": [
    "1. Create a function called check_both_truthy that takes two inputs and returns true if both boolean values are truthy"
   ]
  },
  {
   "cell_type": "code",
   "execution_count": 2,
   "metadata": {},
   "outputs": [
    {
     "name": "stdout",
     "output_type": "stream",
     "text": [
      "True\n",
      "False\n",
      "False\n",
      "False\n"
     ]
    }
   ],
   "source": [
    "#your code here\n",
    "\n",
    "def check_both_truthy(input1, input2):\n",
    "    \n",
    "    return bool(input1) and bool(input2)\n",
    "\n",
    "\n",
    "#uncomment below to see the output\n",
    "print(check_both_truthy(True, True))\n",
    "print(check_both_truthy(True, False))\n",
    "print(check_both_truthy(0, 1))\n",
    "print(check_both_truthy([], []))\n"
   ]
  },
  {
   "cell_type": "markdown",
   "metadata": {},
   "source": [
    "2. Create a function called check_one_truthy that takes two inputs and returns true if only one of the boolean values is truthy"
   ]
  },
  {
   "cell_type": "code",
   "execution_count": 3,
   "metadata": {},
   "outputs": [
    {
     "name": "stdout",
     "output_type": "stream",
     "text": [
      "True\n",
      "True\n",
      "True\n",
      "False\n"
     ]
    }
   ],
   "source": [
    "#your code here\n",
    "\n",
    "def check_one_truthy(input1, input2):\n",
    "    \n",
    "    return bool(input1) or bool(input2)\n",
    "\n",
    "#uncomment below to see the output\n",
    "print(check_one_truthy(True, True))\n",
    "print(check_one_truthy(True, False))\n",
    "print(check_one_truthy(0, 1))\n",
    "print(check_one_truthy([], []))"
   ]
  },
  {
   "cell_type": "markdown",
   "metadata": {},
   "source": [
    "3. Create a function return_ab_or_cd that takes 4 values and returns true if the first two values are truthy or the last two values are truthy"
   ]
  },
  {
   "cell_type": "code",
   "execution_count": 4,
   "metadata": {},
   "outputs": [
    {
     "name": "stdout",
     "output_type": "stream",
     "text": [
      "True\n",
      "False\n",
      "True\n",
      "True\n"
     ]
    }
   ],
   "source": [
    "#your code here\n",
    "\n",
    "def return_ab_or_cd(val1, val2, val3, val4):\n",
    "    \n",
    "    firstTwo = bool(val1) and bool(val2)\n",
    "    secondTwo = bool(val3) and bool(val4)\n",
    "    return firstTwo or secondTwo\n",
    "\n",
    "#Uncomment below to see the output\n",
    "print(return_ab_or_cd(False, False, True, True))\n",
    "print(return_ab_or_cd(True, False, False, False))\n",
    "print(return_ab_or_cd('dog', 'cat', '', 'fish'))\n",
    "print(return_ab_or_cd(0, 0, 1, 1))"
   ]
  },
  {
   "cell_type": "markdown",
   "metadata": {},
   "source": [
    "4. Create a function return_first_truthy that takes 4 values and returns the first truthy value\n"
   ]
  },
  {
   "cell_type": "code",
   "execution_count": 5,
   "metadata": {},
   "outputs": [
    {
     "name": "stdout",
     "output_type": "stream",
     "text": [
      "True\n",
      "True\n",
      "dog\n",
      "1\n"
     ]
    }
   ],
   "source": [
    "#your code here\n",
    "\n",
    "def return_first_truthy(val1, val2, val3, val4):\n",
    "\n",
    "    return val1 or val2 or val3 or val4\n",
    "\n",
    "# Uncomment below to see the output\n",
    "print(return_first_truthy(False, False, True, True))\n",
    "print(return_first_truthy(True, False, False, False))\n",
    "print(return_first_truthy('dog', 'cat', '', 'fish'))\n",
    "print(return_first_truthy(0, 0, 1, 1))"
   ]
  }
 ],
 "metadata": {
  "kernelspec": {
   "display_name": ".venv",
   "language": "python",
   "name": "python3"
  },
  "language_info": {
   "codemirror_mode": {
    "name": "ipython",
    "version": 3
   },
   "file_extension": ".py",
   "mimetype": "text/x-python",
   "name": "python",
   "nbconvert_exporter": "python",
   "pygments_lexer": "ipython3",
   "version": "3.13.0"
  }
 },
 "nbformat": 4,
 "nbformat_minor": 2
}
