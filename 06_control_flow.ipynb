{
 "cells": [
  {
   "cell_type": "markdown",
   "metadata": {},
   "source": [
    "1. Create a function called return_larger that takes two numbers and returns the larger number"
   ]
  },
  {
   "cell_type": "code",
   "execution_count": null,
   "metadata": {},
   "outputs": [
    {
     "name": "stdout",
     "output_type": "stream",
     "text": [
      "2\n",
      "10\n",
      "0\n",
      "-1\n"
     ]
    }
   ],
   "source": [
    "\n",
    "#Your code here\n",
    "\n",
    "def return_larger(num1, num2):\n",
    "\n",
    "    if num1 > num2:\n",
    "        return num1\n",
    "    else:\n",
    "        return num2\n",
    "    \n",
    "# Uncomment below to see the output\n",
    "print(return_larger(1, 2))\n",
    "print(return_larger(10, 5))\n",
    "print(return_larger(0, 0))\n",
    "print(return_larger(-1, -2))"
   ]
  },
  {
   "cell_type": "markdown",
   "metadata": {},
   "source": [
    "2. Create a function called larger_or_equal that takes two numbers and returns the larger number or the string \"Equal\" if they are equal"
   ]
  },
  {
   "cell_type": "code",
   "execution_count": 3,
   "metadata": {},
   "outputs": [
    {
     "name": "stdout",
     "output_type": "stream",
     "text": [
      "2\n",
      "Equal\n"
     ]
    }
   ],
   "source": [
    "#your code here\n",
    "\n",
    "def larger_or_equal(num1, num2):\n",
    "\n",
    "    if num1 == num2:\n",
    "        return \"Equal\"\n",
    "    elif num1 > num2:\n",
    "        return num1\n",
    "    else:\n",
    "        return num2\n",
    "\n",
    "#uncomment below to see the output\n",
    "print(larger_or_equal(1, 2))\n",
    "print(larger_or_equal(5, 5))\n"
   ]
  },
  {
   "cell_type": "markdown",
   "metadata": {},
   "source": [
    "3. Create a function called positive_negative_or_zero that takes a number and returns the string \"Positive\" if the number is positive, \"Negative\" if the number is negative, or \"Zero\" if the number is zero"
   ]
  },
  {
   "cell_type": "code",
   "execution_count": 5,
   "metadata": {},
   "outputs": [
    {
     "name": "stdout",
     "output_type": "stream",
     "text": [
      "Positive\n",
      "Negative\n",
      "Zero\n"
     ]
    }
   ],
   "source": [
    "#your code here\n",
    "\n",
    "def positive_negative_or_zero(num):\n",
    "    \n",
    "    if num > 0:\n",
    "        return \"Positive\"\n",
    "    elif num < 0:\n",
    "        return \"Negative\"\n",
    "    else:\n",
    "        return \"Zero\"\n",
    "\n",
    "#uncomment below to see the output\n",
    "print(positive_negative_or_zero(1))\n",
    "print(positive_negative_or_zero(-1))\n",
    "print(positive_negative_or_zero(0))"
   ]
  },
  {
   "cell_type": "markdown",
   "metadata": {},
   "source": [
    "4. Create a function called language_detector that takes a string representing a language and returns the string for \"Hello, World\", if the language is English, \"Hola Mundo\" if the language is Spanish, or \"Unknown\" if the language is not English or Spanish"
   ]
  },
  {
   "cell_type": "code",
   "execution_count": 6,
   "metadata": {},
   "outputs": [
    {
     "name": "stdout",
     "output_type": "stream",
     "text": [
      "Hello, World\n",
      "Hola Mundo\n",
      "Unknown\n"
     ]
    }
   ],
   "source": [
    "#your code here\n",
    "\n",
    "def language_detector(str):\n",
    "\n",
    "    if str == \"English\":\n",
    "        return \"Hello, World\"\n",
    "    elif str == \"Spanish\":\n",
    "        return \"Hola Mundo\"\n",
    "    else:\n",
    "        return \"Unknown\"\n",
    "\n",
    "#uncomment below to see the output\n",
    "print(language_detector(\"English\"))\n",
    "print(language_detector(\"Spanish\"))\n",
    "print(language_detector(\"French\"))"
   ]
  },
  {
   "cell_type": "markdown",
   "metadata": {},
   "source": [
    "5. Create a function called calculate_grade that takes a number representing a grade and returns the string \"A\" if the grade is 90 or above, \"B\" if the grade is between 80 and 90, \"C\" if the grade is  between 70 and 80, \"D\" if the grade is between 60 and 70, or \"F\" if the grade is below 60"
   ]
  },
  {
   "cell_type": "code",
   "execution_count": 7,
   "metadata": {},
   "outputs": [
    {
     "name": "stdout",
     "output_type": "stream",
     "text": [
      "A\n",
      "B\n",
      "C\n",
      "D\n",
      "F\n"
     ]
    }
   ],
   "source": [
    "#your code here\n",
    "\n",
    "def calculate_grade(num):\n",
    "    if num >= 90:\n",
    "        return \"A\"\n",
    "    elif num >= 80:\n",
    "        return \"B\"\n",
    "    elif num >= 70:\n",
    "        return \"C\"\n",
    "    elif num >= 60:\n",
    "        return \"D\"\n",
    "    else:\n",
    "        return \"F\" \n",
    "\n",
    "#uncomment below to see the output\n",
    "print(calculate_grade(90))\n",
    "print(calculate_grade(80))\n",
    "print(calculate_grade(70))\n",
    "print(calculate_grade(60))\n",
    "print(calculate_grade(50))"
   ]
  },
  {
   "cell_type": "markdown",
   "metadata": {},
   "source": [
    "6. Create a function called animal_counter that takes a string and a number and returns a string with the number and the animal type.\n",
    "\n",
    "EXAMPLE:\n",
    " animalCounts(\"dog\", 2);\n",
    " Output: \"2 dogs\"\n",
    " \n",
    " animalCounts(\"pig\", 1);\n",
    " Output: \"1 pig\"\n",
    " "
   ]
  },
  {
   "cell_type": "code",
   "execution_count": 9,
   "metadata": {},
   "outputs": [
    {
     "name": "stdout",
     "output_type": "stream",
     "text": [
      "2 dogs\n",
      "1 pig\n"
     ]
    }
   ],
   "source": [
    "#your code here\n",
    "\n",
    "def animal_counter(str, num):\n",
    "    if num > 1:\n",
    "        return f\"{num} {str}s\"\n",
    "    else:\n",
    "        return f\"{num} {str}\"\n",
    "#uncomment below to see the output\n",
    "print(animal_counter(\"dog\", 2))\n",
    "print(animal_counter(\"pig\", 1))"
   ]
  },
  {
   "cell_type": "markdown",
   "metadata": {},
   "source": [
    "Create a function called even_or_odd that takes a number and returns the string \"Even\" if the number is even, or \"Odd\" if the number is odd. If the number is a float, convert it to an integer and then check if it is even or odd."
   ]
  },
  {
   "cell_type": "code",
   "execution_count": 11,
   "metadata": {},
   "outputs": [
    {
     "name": "stdout",
     "output_type": "stream",
     "text": [
      "Even\n",
      "Odd\n",
      "Even\n",
      "Odd\n"
     ]
    }
   ],
   "source": [
    "#your code here\n",
    "\n",
    "def even_or_odd(num):\n",
    "    if num % 2 == 0:\n",
    "        return \"Even\"\n",
    "    elif num % 2 == 1:\n",
    "        return \"Odd\"\n",
    "    else:\n",
    "        return even_or_odd(num // 1)\n",
    "\n",
    "#uncomment below to see the output\n",
    "print(even_or_odd(2))\n",
    "print(even_or_odd(3))\n",
    "print(even_or_odd(4.3))\n",
    "print(even_or_odd(5.6))"
   ]
  }
 ],
 "metadata": {
  "kernelspec": {
   "display_name": ".venv",
   "language": "python",
   "name": "python3"
  },
  "language_info": {
   "codemirror_mode": {
    "name": "ipython",
    "version": 3
   },
   "file_extension": ".py",
   "mimetype": "text/x-python",
   "name": "python",
   "nbconvert_exporter": "python",
   "pygments_lexer": "ipython3",
   "version": "3.13.0"
  }
 },
 "nbformat": 4,
 "nbformat_minor": 2
}
